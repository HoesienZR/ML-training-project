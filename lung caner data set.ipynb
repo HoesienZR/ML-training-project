{
 "cells": [
  {
   "cell_type": "code",
   "execution_count": 47,
   "id": "initial_id",
   "metadata": {
    "collapsed": true,
    "ExecuteTime": {
     "end_time": "2024-08-27T16:28:44.534782500Z",
     "start_time": "2024-08-27T16:28:44.396529200Z"
    }
   },
   "outputs": [
    {
     "name": "stdout",
     "output_type": "stream",
     "text": [
      "(309, 16)\n"
     ]
    },
    {
     "data": {
      "text/plain": "   GENDER  AGE  SMOKING  YELLOW_FINGERS  ANXIETY  PEER_PRESSURE  \\\n0       M   69        1               2        2              1   \n1       M   74        2               1        1              1   \n2       F   59        1               1        1              2   \n3       M   63        2               2        2              1   \n4       F   63        1               2        1              1   \n..    ...  ...      ...             ...      ...            ...   \n95      M   60        1               2        2              2   \n96      F   61        2               2        2              1   \n97      M   59        2               1        1              2   \n98      M   64        1               2        2              2   \n99      M   56        2               1        1              1   \n\n    CHRONIC DISEASE  FATIGUE   ALLERGY   WHEEZING  ALCOHOL CONSUMING  \\\n0                 1         2         1         2                  2   \n1                 2         2         2         1                  1   \n2                 1         2         1         2                  1   \n3                 1         1         1         1                  2   \n4                 1         1         1         2                  1   \n..              ...       ...       ...       ...                ...   \n95                1         2         1         1                  1   \n96                1         1         2         1                  2   \n97                1         1         1         1                  2   \n98                1         2         2         1                  1   \n99                1         2         2         2                  2   \n\n    COUGHING  SHORTNESS OF BREATH  SWALLOWING DIFFICULTY  CHEST PAIN  \\\n0          2                    2                      2           2   \n1          1                    2                      2           2   \n2          2                    2                      1           2   \n3          1                    1                      2           2   \n4          2                    2                      1           1   \n..       ...                  ...                    ...         ...   \n95         1                    1                      2           2   \n96         2                    2                      1           2   \n97         2                    2                      1           1   \n98         2                    1                      2           1   \n99         2                    2                      1           2   \n\n   LUNG_CANCER  \n0          YES  \n1          YES  \n2           NO  \n3           NO  \n4           NO  \n..         ...  \n95         YES  \n96         YES  \n97         YES  \n98         YES  \n99         YES  \n\n[100 rows x 16 columns]",
      "text/html": "<div>\n<style scoped>\n    .dataframe tbody tr th:only-of-type {\n        vertical-align: middle;\n    }\n\n    .dataframe tbody tr th {\n        vertical-align: top;\n    }\n\n    .dataframe thead th {\n        text-align: right;\n    }\n</style>\n<table border=\"1\" class=\"dataframe\">\n  <thead>\n    <tr style=\"text-align: right;\">\n      <th></th>\n      <th>GENDER</th>\n      <th>AGE</th>\n      <th>SMOKING</th>\n      <th>YELLOW_FINGERS</th>\n      <th>ANXIETY</th>\n      <th>PEER_PRESSURE</th>\n      <th>CHRONIC DISEASE</th>\n      <th>FATIGUE</th>\n      <th>ALLERGY</th>\n      <th>WHEEZING</th>\n      <th>ALCOHOL CONSUMING</th>\n      <th>COUGHING</th>\n      <th>SHORTNESS OF BREATH</th>\n      <th>SWALLOWING DIFFICULTY</th>\n      <th>CHEST PAIN</th>\n      <th>LUNG_CANCER</th>\n    </tr>\n  </thead>\n  <tbody>\n    <tr>\n      <th>0</th>\n      <td>M</td>\n      <td>69</td>\n      <td>1</td>\n      <td>2</td>\n      <td>2</td>\n      <td>1</td>\n      <td>1</td>\n      <td>2</td>\n      <td>1</td>\n      <td>2</td>\n      <td>2</td>\n      <td>2</td>\n      <td>2</td>\n      <td>2</td>\n      <td>2</td>\n      <td>YES</td>\n    </tr>\n    <tr>\n      <th>1</th>\n      <td>M</td>\n      <td>74</td>\n      <td>2</td>\n      <td>1</td>\n      <td>1</td>\n      <td>1</td>\n      <td>2</td>\n      <td>2</td>\n      <td>2</td>\n      <td>1</td>\n      <td>1</td>\n      <td>1</td>\n      <td>2</td>\n      <td>2</td>\n      <td>2</td>\n      <td>YES</td>\n    </tr>\n    <tr>\n      <th>2</th>\n      <td>F</td>\n      <td>59</td>\n      <td>1</td>\n      <td>1</td>\n      <td>1</td>\n      <td>2</td>\n      <td>1</td>\n      <td>2</td>\n      <td>1</td>\n      <td>2</td>\n      <td>1</td>\n      <td>2</td>\n      <td>2</td>\n      <td>1</td>\n      <td>2</td>\n      <td>NO</td>\n    </tr>\n    <tr>\n      <th>3</th>\n      <td>M</td>\n      <td>63</td>\n      <td>2</td>\n      <td>2</td>\n      <td>2</td>\n      <td>1</td>\n      <td>1</td>\n      <td>1</td>\n      <td>1</td>\n      <td>1</td>\n      <td>2</td>\n      <td>1</td>\n      <td>1</td>\n      <td>2</td>\n      <td>2</td>\n      <td>NO</td>\n    </tr>\n    <tr>\n      <th>4</th>\n      <td>F</td>\n      <td>63</td>\n      <td>1</td>\n      <td>2</td>\n      <td>1</td>\n      <td>1</td>\n      <td>1</td>\n      <td>1</td>\n      <td>1</td>\n      <td>2</td>\n      <td>1</td>\n      <td>2</td>\n      <td>2</td>\n      <td>1</td>\n      <td>1</td>\n      <td>NO</td>\n    </tr>\n    <tr>\n      <th>...</th>\n      <td>...</td>\n      <td>...</td>\n      <td>...</td>\n      <td>...</td>\n      <td>...</td>\n      <td>...</td>\n      <td>...</td>\n      <td>...</td>\n      <td>...</td>\n      <td>...</td>\n      <td>...</td>\n      <td>...</td>\n      <td>...</td>\n      <td>...</td>\n      <td>...</td>\n      <td>...</td>\n    </tr>\n    <tr>\n      <th>95</th>\n      <td>M</td>\n      <td>60</td>\n      <td>1</td>\n      <td>2</td>\n      <td>2</td>\n      <td>2</td>\n      <td>1</td>\n      <td>2</td>\n      <td>1</td>\n      <td>1</td>\n      <td>1</td>\n      <td>1</td>\n      <td>1</td>\n      <td>2</td>\n      <td>2</td>\n      <td>YES</td>\n    </tr>\n    <tr>\n      <th>96</th>\n      <td>F</td>\n      <td>61</td>\n      <td>2</td>\n      <td>2</td>\n      <td>2</td>\n      <td>1</td>\n      <td>1</td>\n      <td>1</td>\n      <td>2</td>\n      <td>1</td>\n      <td>2</td>\n      <td>2</td>\n      <td>2</td>\n      <td>1</td>\n      <td>2</td>\n      <td>YES</td>\n    </tr>\n    <tr>\n      <th>97</th>\n      <td>M</td>\n      <td>59</td>\n      <td>2</td>\n      <td>1</td>\n      <td>1</td>\n      <td>2</td>\n      <td>1</td>\n      <td>1</td>\n      <td>1</td>\n      <td>1</td>\n      <td>2</td>\n      <td>2</td>\n      <td>2</td>\n      <td>1</td>\n      <td>1</td>\n      <td>YES</td>\n    </tr>\n    <tr>\n      <th>98</th>\n      <td>M</td>\n      <td>64</td>\n      <td>1</td>\n      <td>2</td>\n      <td>2</td>\n      <td>2</td>\n      <td>1</td>\n      <td>2</td>\n      <td>2</td>\n      <td>1</td>\n      <td>1</td>\n      <td>2</td>\n      <td>1</td>\n      <td>2</td>\n      <td>1</td>\n      <td>YES</td>\n    </tr>\n    <tr>\n      <th>99</th>\n      <td>M</td>\n      <td>56</td>\n      <td>2</td>\n      <td>1</td>\n      <td>1</td>\n      <td>1</td>\n      <td>1</td>\n      <td>2</td>\n      <td>2</td>\n      <td>2</td>\n      <td>2</td>\n      <td>2</td>\n      <td>2</td>\n      <td>1</td>\n      <td>2</td>\n      <td>YES</td>\n    </tr>\n  </tbody>\n</table>\n<p>100 rows × 16 columns</p>\n</div>"
     },
     "execution_count": 47,
     "metadata": {},
     "output_type": "execute_result"
    }
   ],
   "source": [
    "import pandas as pd \n",
    "import matplotlib.pyplot as plt\n",
    "import numpy as np\n",
    "\n",
    "data = pd.read_csv('lung cancer survey.csv')\n",
    "print(data.shape)\n",
    "data.head(100)"
   ]
  },
  {
   "cell_type": "code",
   "execution_count": 48,
   "outputs": [],
   "source": [
    "for column in data.columns.to_list():\n",
    "    if column not in ['GENDER','AGE','LUNG_CANCER']:\n",
    "        data[column] =data[column] - 1\n"
   ],
   "metadata": {
    "collapsed": false,
    "ExecuteTime": {
     "end_time": "2024-08-27T16:28:44.536727700Z",
     "start_time": "2024-08-27T16:28:44.418781400Z"
    }
   },
   "id": "1b3cb55d1da5316e"
  },
  {
   "cell_type": "code",
   "execution_count": 49,
   "outputs": [
    {
     "data": {
      "text/plain": "    GENDER  AGE  SMOKING  YELLOW_FINGERS  ANXIETY  PEER_PRESSURE  \\\n0        M   69        0               1        1              0   \n1        M   74        1               0        0              0   \n2        F   59        0               0        0              1   \n3        M   63        1               1        1              0   \n4        F   63        0               1        0              0   \n..     ...  ...      ...             ...      ...            ...   \n304      F   56        0               0        0              1   \n305      M   70        1               0        0              0   \n306      M   58        1               0        0              0   \n307      M   67        1               0        1              0   \n308      M   62        0               0        0              1   \n\n     CHRONIC DISEASE  FATIGUE   ALLERGY   WHEEZING  ALCOHOL CONSUMING  \\\n0                  0         1         0         1                  1   \n1                  1         1         1         0                  0   \n2                  0         1         0         1                  0   \n3                  0         0         0         0                  1   \n4                  0         0         0         1                  0   \n..               ...       ...       ...       ...                ...   \n304                1         1         0         0                  1   \n305                0         1         1         1                  1   \n306                0         0         1         1                  1   \n307                0         1         1         0                  1   \n308                0         1         1         1                  1   \n\n     COUGHING  SHORTNESS OF BREATH  SWALLOWING DIFFICULTY  CHEST PAIN  \\\n0           1                    1                      1           1   \n1           0                    1                      1           1   \n2           1                    1                      0           1   \n3           0                    0                      1           1   \n4           1                    1                      0           0   \n..        ...                  ...                    ...         ...   \n304         1                    1                      1           0   \n305         1                    1                      0           1   \n306         1                    0                      0           1   \n307         1                    1                      0           1   \n308         0                    0                      1           0   \n\n    LUNG_CANCER  \n0           YES  \n1           YES  \n2            NO  \n3            NO  \n4            NO  \n..          ...  \n304         YES  \n305         YES  \n306         YES  \n307         YES  \n308         YES  \n\n[309 rows x 16 columns]",
      "text/html": "<div>\n<style scoped>\n    .dataframe tbody tr th:only-of-type {\n        vertical-align: middle;\n    }\n\n    .dataframe tbody tr th {\n        vertical-align: top;\n    }\n\n    .dataframe thead th {\n        text-align: right;\n    }\n</style>\n<table border=\"1\" class=\"dataframe\">\n  <thead>\n    <tr style=\"text-align: right;\">\n      <th></th>\n      <th>GENDER</th>\n      <th>AGE</th>\n      <th>SMOKING</th>\n      <th>YELLOW_FINGERS</th>\n      <th>ANXIETY</th>\n      <th>PEER_PRESSURE</th>\n      <th>CHRONIC DISEASE</th>\n      <th>FATIGUE</th>\n      <th>ALLERGY</th>\n      <th>WHEEZING</th>\n      <th>ALCOHOL CONSUMING</th>\n      <th>COUGHING</th>\n      <th>SHORTNESS OF BREATH</th>\n      <th>SWALLOWING DIFFICULTY</th>\n      <th>CHEST PAIN</th>\n      <th>LUNG_CANCER</th>\n    </tr>\n  </thead>\n  <tbody>\n    <tr>\n      <th>0</th>\n      <td>M</td>\n      <td>69</td>\n      <td>0</td>\n      <td>1</td>\n      <td>1</td>\n      <td>0</td>\n      <td>0</td>\n      <td>1</td>\n      <td>0</td>\n      <td>1</td>\n      <td>1</td>\n      <td>1</td>\n      <td>1</td>\n      <td>1</td>\n      <td>1</td>\n      <td>YES</td>\n    </tr>\n    <tr>\n      <th>1</th>\n      <td>M</td>\n      <td>74</td>\n      <td>1</td>\n      <td>0</td>\n      <td>0</td>\n      <td>0</td>\n      <td>1</td>\n      <td>1</td>\n      <td>1</td>\n      <td>0</td>\n      <td>0</td>\n      <td>0</td>\n      <td>1</td>\n      <td>1</td>\n      <td>1</td>\n      <td>YES</td>\n    </tr>\n    <tr>\n      <th>2</th>\n      <td>F</td>\n      <td>59</td>\n      <td>0</td>\n      <td>0</td>\n      <td>0</td>\n      <td>1</td>\n      <td>0</td>\n      <td>1</td>\n      <td>0</td>\n      <td>1</td>\n      <td>0</td>\n      <td>1</td>\n      <td>1</td>\n      <td>0</td>\n      <td>1</td>\n      <td>NO</td>\n    </tr>\n    <tr>\n      <th>3</th>\n      <td>M</td>\n      <td>63</td>\n      <td>1</td>\n      <td>1</td>\n      <td>1</td>\n      <td>0</td>\n      <td>0</td>\n      <td>0</td>\n      <td>0</td>\n      <td>0</td>\n      <td>1</td>\n      <td>0</td>\n      <td>0</td>\n      <td>1</td>\n      <td>1</td>\n      <td>NO</td>\n    </tr>\n    <tr>\n      <th>4</th>\n      <td>F</td>\n      <td>63</td>\n      <td>0</td>\n      <td>1</td>\n      <td>0</td>\n      <td>0</td>\n      <td>0</td>\n      <td>0</td>\n      <td>0</td>\n      <td>1</td>\n      <td>0</td>\n      <td>1</td>\n      <td>1</td>\n      <td>0</td>\n      <td>0</td>\n      <td>NO</td>\n    </tr>\n    <tr>\n      <th>...</th>\n      <td>...</td>\n      <td>...</td>\n      <td>...</td>\n      <td>...</td>\n      <td>...</td>\n      <td>...</td>\n      <td>...</td>\n      <td>...</td>\n      <td>...</td>\n      <td>...</td>\n      <td>...</td>\n      <td>...</td>\n      <td>...</td>\n      <td>...</td>\n      <td>...</td>\n      <td>...</td>\n    </tr>\n    <tr>\n      <th>304</th>\n      <td>F</td>\n      <td>56</td>\n      <td>0</td>\n      <td>0</td>\n      <td>0</td>\n      <td>1</td>\n      <td>1</td>\n      <td>1</td>\n      <td>0</td>\n      <td>0</td>\n      <td>1</td>\n      <td>1</td>\n      <td>1</td>\n      <td>1</td>\n      <td>0</td>\n      <td>YES</td>\n    </tr>\n    <tr>\n      <th>305</th>\n      <td>M</td>\n      <td>70</td>\n      <td>1</td>\n      <td>0</td>\n      <td>0</td>\n      <td>0</td>\n      <td>0</td>\n      <td>1</td>\n      <td>1</td>\n      <td>1</td>\n      <td>1</td>\n      <td>1</td>\n      <td>1</td>\n      <td>0</td>\n      <td>1</td>\n      <td>YES</td>\n    </tr>\n    <tr>\n      <th>306</th>\n      <td>M</td>\n      <td>58</td>\n      <td>1</td>\n      <td>0</td>\n      <td>0</td>\n      <td>0</td>\n      <td>0</td>\n      <td>0</td>\n      <td>1</td>\n      <td>1</td>\n      <td>1</td>\n      <td>1</td>\n      <td>0</td>\n      <td>0</td>\n      <td>1</td>\n      <td>YES</td>\n    </tr>\n    <tr>\n      <th>307</th>\n      <td>M</td>\n      <td>67</td>\n      <td>1</td>\n      <td>0</td>\n      <td>1</td>\n      <td>0</td>\n      <td>0</td>\n      <td>1</td>\n      <td>1</td>\n      <td>0</td>\n      <td>1</td>\n      <td>1</td>\n      <td>1</td>\n      <td>0</td>\n      <td>1</td>\n      <td>YES</td>\n    </tr>\n    <tr>\n      <th>308</th>\n      <td>M</td>\n      <td>62</td>\n      <td>0</td>\n      <td>0</td>\n      <td>0</td>\n      <td>1</td>\n      <td>0</td>\n      <td>1</td>\n      <td>1</td>\n      <td>1</td>\n      <td>1</td>\n      <td>0</td>\n      <td>0</td>\n      <td>1</td>\n      <td>0</td>\n      <td>YES</td>\n    </tr>\n  </tbody>\n</table>\n<p>309 rows × 16 columns</p>\n</div>"
     },
     "execution_count": 49,
     "metadata": {},
     "output_type": "execute_result"
    }
   ],
   "source": [
    "data"
   ],
   "metadata": {
    "collapsed": false,
    "ExecuteTime": {
     "end_time": "2024-08-27T16:28:44.536727700Z",
     "start_time": "2024-08-27T16:28:44.434945700Z"
    }
   },
   "id": "578b9bb716a57da8"
  },
  {
   "cell_type": "code",
   "execution_count": 50,
   "outputs": [
    {
     "data": {
      "text/plain": "0      1\n1      1\n2      0\n3      1\n4      0\n      ..\n304    0\n305    1\n306    1\n307    1\n308    1\nName: GENDER, Length: 309, dtype: int64"
     },
     "execution_count": 50,
     "metadata": {},
     "output_type": "execute_result"
    }
   ],
   "source": [
    "\n",
    "from sklearn.preprocessing import LabelEncoder\n",
    "label = LabelEncoder()\n",
    "gender = data['GENDER']\n",
    "result = label.fit_transform(gender)\n",
    "data['GENDER'] = result\n",
    "data.GENDER\n"
   ],
   "metadata": {
    "collapsed": false,
    "ExecuteTime": {
     "end_time": "2024-08-27T16:28:44.536727700Z",
     "start_time": "2024-08-27T16:28:44.449836300Z"
    }
   },
   "id": "4a0609f45a028452"
  },
  {
   "cell_type": "markdown",
   "source": [],
   "metadata": {
    "collapsed": false
   },
   "id": "e7e406d07cc86e55"
  },
  {
   "cell_type": "code",
   "execution_count": 51,
   "outputs": [
    {
     "name": "stdout",
     "output_type": "stream",
     "text": [
      "0      0.727273\n",
      "1      0.803030\n",
      "2      0.575758\n",
      "3      0.636364\n",
      "4      0.636364\n",
      "         ...   \n",
      "304    0.530303\n",
      "305    0.742424\n",
      "306    0.560606\n",
      "307    0.696970\n",
      "308    0.621212\n",
      "Name: AGE, Length: 309, dtype: float64\n"
     ]
    }
   ],
   "source": [
    "from sklearn.preprocessing import MinMaxScaler\n",
    "scaler = MinMaxScaler()\n",
    "data_of_age = data['AGE']\n",
    "data_of_age = np.array(data_of_age)\n",
    "data_of_age = data_of_age.reshape(-1, 1)\n",
    "data.AGE = scaler.fit_transform(data_of_age)\n",
    "print(data['AGE'])"
   ],
   "metadata": {
    "collapsed": false,
    "ExecuteTime": {
     "end_time": "2024-08-27T16:28:44.537787500Z",
     "start_time": "2024-08-27T16:28:44.465064800Z"
    }
   },
   "id": "3291115c99fdb397"
  },
  {
   "cell_type": "code",
   "execution_count": 52,
   "outputs": [
    {
     "ename": "KeyError",
     "evalue": "3",
     "output_type": "error",
     "traceback": [
      "\u001B[1;31m---------------------------------------------------------------------------\u001B[0m",
      "\u001B[1;31mKeyError\u001B[0m                                  Traceback (most recent call last)",
      "File \u001B[1;32mD:\\DjangoCourse\\Machine_learning\\venv\\lib\\site-packages\\pandas\\core\\indexes\\base.py:3805\u001B[0m, in \u001B[0;36mIndex.get_loc\u001B[1;34m(self, key)\u001B[0m\n\u001B[0;32m   3804\u001B[0m \u001B[38;5;28;01mtry\u001B[39;00m:\n\u001B[1;32m-> 3805\u001B[0m     \u001B[38;5;28;01mreturn\u001B[39;00m \u001B[38;5;28;43mself\u001B[39;49m\u001B[38;5;241;43m.\u001B[39;49m\u001B[43m_engine\u001B[49m\u001B[38;5;241;43m.\u001B[39;49m\u001B[43mget_loc\u001B[49m\u001B[43m(\u001B[49m\u001B[43mcasted_key\u001B[49m\u001B[43m)\u001B[49m\n\u001B[0;32m   3806\u001B[0m \u001B[38;5;28;01mexcept\u001B[39;00m \u001B[38;5;167;01mKeyError\u001B[39;00m \u001B[38;5;28;01mas\u001B[39;00m err:\n",
      "File \u001B[1;32mindex.pyx:167\u001B[0m, in \u001B[0;36mpandas._libs.index.IndexEngine.get_loc\u001B[1;34m()\u001B[0m\n",
      "File \u001B[1;32mindex.pyx:196\u001B[0m, in \u001B[0;36mpandas._libs.index.IndexEngine.get_loc\u001B[1;34m()\u001B[0m\n",
      "File \u001B[1;32mpandas\\\\_libs\\\\hashtable_class_helper.pxi:7081\u001B[0m, in \u001B[0;36mpandas._libs.hashtable.PyObjectHashTable.get_item\u001B[1;34m()\u001B[0m\n",
      "File \u001B[1;32mpandas\\\\_libs\\\\hashtable_class_helper.pxi:7089\u001B[0m, in \u001B[0;36mpandas._libs.hashtable.PyObjectHashTable.get_item\u001B[1;34m()\u001B[0m\n",
      "\u001B[1;31mKeyError\u001B[0m: 3",
      "\nThe above exception was the direct cause of the following exception:\n",
      "\u001B[1;31mKeyError\u001B[0m                                  Traceback (most recent call last)",
      "Cell \u001B[1;32mIn[52], line 1\u001B[0m\n\u001B[1;32m----> 1\u001B[0m \u001B[38;5;28mprint\u001B[39m(\u001B[38;5;28mtype\u001B[39m(\u001B[43mdata\u001B[49m\u001B[43m[\u001B[49m\u001B[38;5;241;43m3\u001B[39;49m\u001B[43m]\u001B[49m))\n",
      "File \u001B[1;32mD:\\DjangoCourse\\Machine_learning\\venv\\lib\\site-packages\\pandas\\core\\frame.py:4102\u001B[0m, in \u001B[0;36mDataFrame.__getitem__\u001B[1;34m(self, key)\u001B[0m\n\u001B[0;32m   4100\u001B[0m \u001B[38;5;28;01mif\u001B[39;00m \u001B[38;5;28mself\u001B[39m\u001B[38;5;241m.\u001B[39mcolumns\u001B[38;5;241m.\u001B[39mnlevels \u001B[38;5;241m>\u001B[39m \u001B[38;5;241m1\u001B[39m:\n\u001B[0;32m   4101\u001B[0m     \u001B[38;5;28;01mreturn\u001B[39;00m \u001B[38;5;28mself\u001B[39m\u001B[38;5;241m.\u001B[39m_getitem_multilevel(key)\n\u001B[1;32m-> 4102\u001B[0m indexer \u001B[38;5;241m=\u001B[39m \u001B[38;5;28;43mself\u001B[39;49m\u001B[38;5;241;43m.\u001B[39;49m\u001B[43mcolumns\u001B[49m\u001B[38;5;241;43m.\u001B[39;49m\u001B[43mget_loc\u001B[49m\u001B[43m(\u001B[49m\u001B[43mkey\u001B[49m\u001B[43m)\u001B[49m\n\u001B[0;32m   4103\u001B[0m \u001B[38;5;28;01mif\u001B[39;00m is_integer(indexer):\n\u001B[0;32m   4104\u001B[0m     indexer \u001B[38;5;241m=\u001B[39m [indexer]\n",
      "File \u001B[1;32mD:\\DjangoCourse\\Machine_learning\\venv\\lib\\site-packages\\pandas\\core\\indexes\\base.py:3812\u001B[0m, in \u001B[0;36mIndex.get_loc\u001B[1;34m(self, key)\u001B[0m\n\u001B[0;32m   3807\u001B[0m     \u001B[38;5;28;01mif\u001B[39;00m \u001B[38;5;28misinstance\u001B[39m(casted_key, \u001B[38;5;28mslice\u001B[39m) \u001B[38;5;129;01mor\u001B[39;00m (\n\u001B[0;32m   3808\u001B[0m         \u001B[38;5;28misinstance\u001B[39m(casted_key, abc\u001B[38;5;241m.\u001B[39mIterable)\n\u001B[0;32m   3809\u001B[0m         \u001B[38;5;129;01mand\u001B[39;00m \u001B[38;5;28many\u001B[39m(\u001B[38;5;28misinstance\u001B[39m(x, \u001B[38;5;28mslice\u001B[39m) \u001B[38;5;28;01mfor\u001B[39;00m x \u001B[38;5;129;01min\u001B[39;00m casted_key)\n\u001B[0;32m   3810\u001B[0m     ):\n\u001B[0;32m   3811\u001B[0m         \u001B[38;5;28;01mraise\u001B[39;00m InvalidIndexError(key)\n\u001B[1;32m-> 3812\u001B[0m     \u001B[38;5;28;01mraise\u001B[39;00m \u001B[38;5;167;01mKeyError\u001B[39;00m(key) \u001B[38;5;28;01mfrom\u001B[39;00m \u001B[38;5;21;01merr\u001B[39;00m\n\u001B[0;32m   3813\u001B[0m \u001B[38;5;28;01mexcept\u001B[39;00m \u001B[38;5;167;01mTypeError\u001B[39;00m:\n\u001B[0;32m   3814\u001B[0m     \u001B[38;5;66;03m# If we have a listlike key, _check_indexing_error will raise\u001B[39;00m\n\u001B[0;32m   3815\u001B[0m     \u001B[38;5;66;03m#  InvalidIndexError. Otherwise we fall through and re-raise\u001B[39;00m\n\u001B[0;32m   3816\u001B[0m     \u001B[38;5;66;03m#  the TypeError.\u001B[39;00m\n\u001B[0;32m   3817\u001B[0m     \u001B[38;5;28mself\u001B[39m\u001B[38;5;241m.\u001B[39m_check_indexing_error(key)\n",
      "\u001B[1;31mKeyError\u001B[0m: 3"
     ]
    }
   ],
   "source": [
    "print(type(data[3]))"
   ],
   "metadata": {
    "collapsed": false,
    "ExecuteTime": {
     "end_time": "2024-08-27T16:28:44.554795900Z",
     "start_time": "2024-08-27T16:28:44.496911Z"
    }
   },
   "id": "da2918395ac91ca2"
  },
  {
   "cell_type": "code",
   "execution_count": null,
   "outputs": [],
   "source": [
    "from sklearn.preprocessing import LabelEncoder\n",
    "label = LabelEncoder()\n",
    "have_cancer = data['LUNG_CANCER']\n",
    "result = label.fit_transform(have_cancer)\n",
    "data['LUNG_CANCER'] = result\n",
    "data.LUNG_CANCER\n"
   ],
   "metadata": {
    "collapsed": false,
    "ExecuteTime": {
     "start_time": "2024-08-27T16:28:44.542696100Z"
    }
   },
   "id": "c9c1c13b327532c0"
  },
  {
   "cell_type": "code",
   "execution_count": null,
   "outputs": [],
   "source": [
    "all_attributes = list(data)\n",
    "need_excluded_attributes = ['AGE', 'GENDER', 'CHRONIC DISEASE', 'SHORTNESS OF BREATH']\n",
    "\n",
    "\n",
    "def remove_attr(items_to_remove):\n",
    "    all_attributes = list(data)\n",
    "    for remove_item in items_to_remove:\n",
    "        all_attributes.remove(remove_item)\n",
    "    return all_attributes\n",
    "\n",
    "new_all_attributes = remove_attr(need_excluded_attributes)\n",
    "new_all_attributes.remove('LUNG_CANCER')\n",
    "print(new_all_attributes)"
   ],
   "metadata": {
    "collapsed": false,
    "ExecuteTime": {
     "start_time": "2024-08-27T16:28:44.545691Z"
    }
   },
   "id": "16f0867484de3a5"
  },
  {
   "cell_type": "code",
   "execution_count": null,
   "outputs": [],
   "source": [
    "for attre in all_attributes :\n",
    "    plt.hist(data[attre])\n",
    "    plt.xlabel(attre)\n",
    "    plt.show()"
   ],
   "metadata": {
    "collapsed": false,
    "ExecuteTime": {
     "start_time": "2024-08-27T16:28:44.546690800Z"
    }
   },
   "id": "c8bafd4831f38649"
  },
  {
   "cell_type": "code",
   "execution_count": null,
   "outputs": [],
   "source": [
    "from sklearn.model_selection import train_test_split\n",
    "train_x,test_x,train_y,test_y =train_test_split(data[new_all_attributes],data['LUNG_CANCER'],test_size=0.2)\n",
    "train_y.head()"
   ],
   "metadata": {
    "collapsed": false,
    "ExecuteTime": {
     "start_time": "2024-08-27T16:28:44.548690Z"
    }
   },
   "id": "164268f0bd6a0ddf"
  },
  {
   "cell_type": "code",
   "execution_count": null,
   "outputs": [],
   "source": [
    "from sklearn.svm import SVC\n",
    "support_vetor = SVC()\n",
    "support_vetor.fit(train_x,train_y)\n",
    "pred_y = support_vetor.predict(test_x)"
   ],
   "metadata": {
    "collapsed": false,
    "ExecuteTime": {
     "start_time": "2024-08-27T16:28:44.550695600Z"
    }
   },
   "id": "8c43956479ada9dc"
  },
  {
   "cell_type": "code",
   "execution_count": null,
   "outputs": [],
   "source": [
    "from sklearn.metrics import precision_score,recall_score,accuracy_score\n",
    "model_result = dict()\n",
    "model_result['recall'] = recall_score(y_true=test_y,y_pred=pred_y)\n",
    "model_result['accuracy'] = accuracy_score(y_true=test_y,y_pred=pred_y)\n",
    "model_result['precision'] = precision_score(y_true=test_y,y_pred=pred_y)"
   ],
   "metadata": {
    "collapsed": false,
    "ExecuteTime": {
     "start_time": "2024-08-27T16:28:44.553698400Z"
    }
   },
   "id": "4565382ea83372ff"
  },
  {
   "cell_type": "code",
   "execution_count": null,
   "outputs": [],
   "source": [
    "def write_on_file(models_result:dict,model_name:str,description:str):\n",
    "    \"\"\" models result is key value data that should have accuracy ,recall and precision score , should have three keys,'accuracy', 'recall','precision'.\n",
    "      models_name is name of model that we calculate scores on it descriptio is string who describe model based on it's arugment like how many depth and tree we have in random forest \"\"\"\n",
    "    accuracy_score = models_result['accuracy']\n",
    "    recall_score = models_result['recall']\n",
    "    precision = models_result['precision']\n",
    "    with open('models_accuracy_results.txt','a') as file:\n",
    "        file.write(f'name of model is :\\n{model_name}\\n')\n",
    "        file.write(f'with features of {description}\\n')\n",
    "        file.write('and this is model results\\n')\n",
    "        file.write(f'accuracy score is :\\n{accuracy_score}\\n')\n",
    "        file.write(f'recall score is :\\n{recall_score}\\n')\n",
    "        file.write(f'precision score is :\\n{precision}\\n')\n",
    "        file.write('-'*80+'\\n')\n",
    "        file.close()\n",
    "    "
   ],
   "metadata": {
    "collapsed": false,
    "ExecuteTime": {
     "end_time": "2024-08-27T16:28:44.555820700Z",
     "start_time": "2024-08-27T16:28:44.554795900Z"
    }
   },
   "id": "449a0014c217954d"
  },
  {
   "cell_type": "code",
   "execution_count": 53,
   "outputs": [],
   "source": [
    "write_on_file(models_result=model_result,model_name='svm',description='nothing iuvtuf uuftfty  ctrctrfuy   rydyutd r dtrdtrd tr trdtrdtr xt extrtrd tr rdtrtyc yu ydcydf yvugif trftyf  yuty dcty yt tuc  c ')"
   ],
   "metadata": {
    "collapsed": false,
    "ExecuteTime": {
     "end_time": "2024-08-27T16:29:52.254746500Z",
     "start_time": "2024-08-27T16:29:52.246893500Z"
    }
   },
   "id": "7645c1e877457154"
  },
  {
   "cell_type": "code",
   "execution_count": null,
   "outputs": [],
   "source": [
    "def read_on_file():\n",
    "   mydata = []\n",
    "   with open('models_accuracy_results.txt','r') as file:\n",
    "       data = file.readlines()\n",
    "       i = 0\n",
    "       while i < len(data):\n",
    "            i+=1\n",
    "            model_name = data[i]\n",
    "            i+=4\n",
    "            accuracy_score = data[i]\n",
    "            i+=2\n",
    "            recall_score = data[i]\n",
    "            i+=2 \n",
    "            precision_score = data[i]\n",
    "            i+=2\n",
    "            values = {'accuracy':accuracy_score.strip(),'recall':recall_score.strip(),'precision':precision_score.strip(),'model_name':model_name.strip()}\n",
    "            mydata.append(values)\n",
    "       file.close()\n",
    "       return  mydata\n",
    "    "
   ],
   "metadata": {
    "collapsed": false,
    "ExecuteTime": {
     "start_time": "2024-08-27T16:28:44.557807200Z"
    }
   },
   "id": "9ab10df4ea616c6d"
  },
  {
   "cell_type": "code",
   "execution_count": 54,
   "outputs": [],
   "source": [
    "data = read_on_file()"
   ],
   "metadata": {
    "collapsed": false,
    "ExecuteTime": {
     "end_time": "2024-08-27T16:30:02.549165500Z",
     "start_time": "2024-08-27T16:30:02.526038600Z"
    }
   },
   "id": "96f6df692c1e6548"
  },
  {
   "cell_type": "code",
   "execution_count": 55,
   "outputs": [
    {
     "name": "stdout",
     "output_type": "stream",
     "text": [
      "6\n"
     ]
    }
   ],
   "source": [
    "print(len(data))"
   ],
   "metadata": {
    "collapsed": false,
    "ExecuteTime": {
     "end_time": "2024-08-27T16:30:10.834086400Z",
     "start_time": "2024-08-27T16:30:10.823856500Z"
    }
   },
   "id": "b073e1a1260157be"
  },
  {
   "cell_type": "code",
   "execution_count": null,
   "outputs": [],
   "source": [],
   "metadata": {
    "collapsed": false,
    "ExecuteTime": {
     "start_time": "2024-08-27T16:28:44.561806700Z"
    }
   },
   "id": "c711dd46449d9a10"
  }
 ],
 "metadata": {
  "kernelspec": {
   "display_name": "Python 3",
   "language": "python",
   "name": "python3"
  },
  "language_info": {
   "codemirror_mode": {
    "name": "ipython",
    "version": 2
   },
   "file_extension": ".py",
   "mimetype": "text/x-python",
   "name": "python",
   "nbconvert_exporter": "python",
   "pygments_lexer": "ipython2",
   "version": "2.7.6"
  }
 },
 "nbformat": 4,
 "nbformat_minor": 5
}
